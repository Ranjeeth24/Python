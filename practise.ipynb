{
 "cells": [
  {
   "cell_type": "code",
   "execution_count": 1,
   "metadata": {},
   "outputs": [
    {
     "name": "stdout",
     "output_type": "stream",
     "text": [
      "['hello']\n",
      "enter number5\n",
      "enter number6\n",
      "56\n",
      "[[[1 2 3]\n",
      "  [4 5 6]\n",
      "  [7 8 9]]]\n"
     ]
    }
   ],
   "source": [
    "a=[]\n",
    "#a.append(2)\n",
    "#a.append(3)\n",
    "a.append(\"hello\")\n",
    "print(a)\n",
    "\n",
    "a=input(\"enter number\")\n",
    "b=input(\"enter number\")\n",
    "c=a+b\n",
    "print(c)\n",
    "\n",
    "import numpy as np\n",
    "a=np.array([[[1,2,3],[4,5,6],[7,8,9]]])\n",
    "print(a)"
   ]
  },
  {
   "cell_type": "code",
   "execution_count": 2,
   "metadata": {},
   "outputs": [
    {
     "ename": "IndentationError",
     "evalue": "expected an indented block (<ipython-input-2-7d60b83407f9>, line 3)",
     "output_type": "error",
     "traceback": [
      "\u001b[1;36m  File \u001b[1;32m\"<ipython-input-2-7d60b83407f9>\"\u001b[1;36m, line \u001b[1;32m3\u001b[0m\n\u001b[1;33m    print(\"number is good\")\u001b[0m\n\u001b[1;37m        ^\u001b[0m\n\u001b[1;31mIndentationError\u001b[0m\u001b[1;31m:\u001b[0m expected an indented block\n"
     ]
    }
   ],
   "source": [
    "a=5\n",
    "if(a>10):\n",
    "print(\"number is good\")\n",
    "elif:\n",
    "print(\"number is not good\")"
   ]
  },
  {
   "cell_type": "code",
   "execution_count": 13,
   "metadata": {},
   "outputs": [
    {
     "name": "stdout",
     "output_type": "stream",
     "text": [
      "[1 2 4 5 6 7 8 9]\n"
     ]
    }
   ],
   "source": [
    "import numpy as np\n",
    "a=np.array([1,2,3,4,5,6,7,8,9])\n",
    "a=np.delete(a,[2])\n",
    "#a=np.drop(a,[2])\n",
    "print(a)"
   ]
  },
  {
   "cell_type": "markdown",
   "metadata": {},
   "source": []
  },
  {
   "cell_type": "code",
   "execution_count": 16,
   "metadata": {},
   "outputs": [
    {
     "name": "stdout",
     "output_type": "stream",
     "text": [
      "[0 1 2 3 4]\n",
      "[0 0 0 0 0]\n"
     ]
    }
   ],
   "source": [
    "a=np.arange(5)\n",
    "print(a)\n",
    "#b=np.zeros(5)\n",
    "b=np.zeros(5,dtype=int)\n",
    "print(b)\n"
   ]
  },
  {
   "cell_type": "code",
   "execution_count": 18,
   "metadata": {},
   "outputs": [
    {
     "name": "stdout",
     "output_type": "stream",
     "text": [
      "[ 0  5 10 15 20]\n"
     ]
    }
   ],
   "source": [
    "a=np.linspace(0,20,5, dtype=int)\n",
    "print(a)"
   ]
  },
  {
   "cell_type": "code",
   "execution_count": 20,
   "metadata": {},
   "outputs": [
    {
     "name": "stdout",
     "output_type": "stream",
     "text": [
      "[[1 2 3]\n",
      " [4 5 6]]\n",
      "(2, 3)\n",
      "[[1 2]\n",
      " [3 4]\n",
      " [5 6]]\n"
     ]
    }
   ],
   "source": [
    "a=np.array([[1,2,3],[4,5,6]])\n",
    "print(a)\n",
    "b=np.shape(a)\n",
    "print(b)\n",
    "c=np.reshape(a,(3,2))\n",
    "print(c)\n"
   ]
  },
  {
   "cell_type": "code",
   "execution_count": 21,
   "metadata": {},
   "outputs": [
    {
     "name": "stdout",
     "output_type": "stream",
     "text": [
      "[1 2 3 4 5 6 7 8]\n",
      "[[1 2]\n",
      " [3 4]\n",
      " [5 6]\n",
      " [7 8]]\n"
     ]
    }
   ],
   "source": [
    "a=np.array([1,2,3,4,5,6,7,8])\n",
    "print(a)\n",
    "b=np.resize(a,(4,2))\n",
    "print(b)\n"
   ]
  },
  {
   "cell_type": "code",
   "execution_count": 24,
   "metadata": {},
   "outputs": [
    {
     "name": "stdout",
     "output_type": "stream",
     "text": [
      "[ 6  8 10 12]\n",
      "[1, 2, 3, 4, 5, 6, 7, 8]\n",
      "[1, 2, 3, 4, 5, 6, 7, 8, 5, 6, 7, 8]\n"
     ]
    }
   ],
   "source": [
    "a=np.array([1,2,3,4])\n",
    "b=np.array([5,6,7,8])\n",
    "c=[1,2,3,4]\n",
    "d=[5,6,7,8]\n",
    "f=[*c,*d]\n",
    "c.extend(d)\n",
    "e=c+d\n",
    "c=a+b\n",
    "print(c)\n",
    "print(f)\n",
    "print(e)\n"
   ]
  },
  {
   "cell_type": "code",
   "execution_count": 25,
   "metadata": {},
   "outputs": [
    {
     "name": "stdout",
     "output_type": "stream",
     "text": [
      "[1, 2, 3, 0, 4, 5, 6, 7]\n"
     ]
    }
   ],
   "source": [
    "import numpy as np\n",
    "a=[1,2,3,4,5,6,7]\n",
    "a.insert(3,0)\n",
    "print(a)"
   ]
  },
  {
   "cell_type": "code",
   "execution_count": 27,
   "metadata": {},
   "outputs": [
    {
     "name": "stdout",
     "output_type": "stream",
     "text": [
      "[[1 0]\n",
      " [0 1]\n",
      " [0 0]]\n"
     ]
    }
   ],
   "source": [
    "a=np.eye(3,2, dtype=int)  ##identity matrix\n",
    "print(a)"
   ]
  },
  {
   "cell_type": "code",
   "execution_count": 28,
   "metadata": {},
   "outputs": [
    {
     "ename": "SyntaxError",
     "evalue": "invalid syntax (<ipython-input-28-6f9dda267527>, line 4)",
     "output_type": "error",
     "traceback": [
      "\u001b[1;36m  File \u001b[1;32m\"<ipython-input-28-6f9dda267527>\"\u001b[1;36m, line \u001b[1;32m4\u001b[0m\n\u001b[1;33m    c={'index'=[1,2,3,4],'name':['ranjith','lucky','python','bangaram'],'age':[27,23,23,24]}\u001b[0m\n\u001b[1;37m              ^\u001b[0m\n\u001b[1;31mSyntaxError\u001b[0m\u001b[1;31m:\u001b[0m invalid syntax\n"
     ]
    }
   ],
   "source": [
    "import pandas as pd\n",
    "a=[['ranjith','lucky','python','bangaram'],[27,23,23,24]]\n",
    "c={'name':['ranjith','lucky','python','bangaram'],'age':[27,23,23,24]}\n",
    "c={'index'=[1,2,3,4],'name':['ranjith','lucky','python','bangaram'],'age':[27,23,23,24]}\n",
    "b=pd.DataFrame(c)\n",
    "print(b)"
   ]
  },
  {
   "cell_type": "code",
   "execution_count": 6,
   "metadata": {},
   "outputs": [
    {
     "name": "stdout",
     "output_type": "stream",
     "text": [
      "    S.No               STUDENT NAME      QUALIFICATION  YEAR OF PASSED  \\\n",
      "0      1           S.RANJEETH KUMAR       B.TECH (EEE)          2016.0   \n",
      "1      2                N.SUMALATHA       B.TECH (ECE)          2015.0   \n",
      "2      3                  A.MOUNICA       B.TECH (ECE)          2016.0   \n",
      "3      4           M.RENUKA SIRISHA       B.TECH (ECE)          2017.0   \n",
      "4      5                K.LATHA SRI       B.TECH (ECE)          2014.0   \n",
      "5      6                  A.DEEPIKA  M.SC (STATISTICS)          2015.0   \n",
      "6      7             SUMERA FIRDOUS      DIPLOMA (ECE)          2017.0   \n",
      "7      8              R.BALAKRISHNA       B.TECH (ECE)          2017.0   \n",
      "8      9                  K.AVINASH       B.TECH (EEE)          2017.0   \n",
      "9     10                  G.MANISHA       B.TECH (ECE)          2015.0   \n",
      "10    11               K.PADMA SREE        B.SC (MPCs)          2016.0   \n",
      "11    12                  M.LAVANYA        B.SC (MECs)          2016.0   \n",
      "12    13                 B.NARENDAR       B.TECH (EEE)          2015.0   \n",
      "13    14         D.NEELAKANTA REDDY     B.TECH (CIVIL)          2016.0   \n",
      "14    15                     Y.RAJA      B.TECH (MECH)          2015.0   \n",
      "15    16                   O.NARESH      B.TECH (MECH)          2016.0   \n",
      "16    17         K.VINOD KUMAR NAIK      B.TECH (MECH)          2017.0   \n",
      "17    18                   S.UMAKAR       B.TECH (ECE)          2016.0   \n",
      "18    19                   S.HARISH       B.TECH (ECE)          2016.0   \n",
      "19    20                 T.SRINIVAS     DIPLOMA (MECH)          2017.0   \n",
      "20    21                D.VENKATESH        B.TECH (ME)          2016.0   \n",
      "21    22                 CH.DAYAKAR        B.TECH (ME)          2016.0   \n",
      "22    23              V.SUNIL KUMAR         B.SC (ELE)          2011.0   \n",
      "23    24           CH.SANDEEP KUMAR       B.TECH (ECE)          2015.0   \n",
      "24    25  Y.DEVA NAGA NARENDRA BABU       B.TECH (ECE)          2017.0   \n",
      "25    26               R.SREERAMULU      B.TECH (MECH)          2016.0   \n",
      "26    27              N.PURUSHOTHAM       B.TECH (EEE)          2016.0   \n",
      "27    28         VEMULAPALLI SAIRAM      B.TECH (MECH)          2016.0   \n",
      "28    29            RUSHENDRA REDDY     B.TECH (CIVIL)          2016.0   \n",
      "29    30                        NaN                NaN             NaN   \n",
      "30    31                        NaN                NaN             NaN   \n",
      "31    32                        NaN                NaN             NaN   \n",
      "32    33                        NaN                NaN             NaN   \n",
      "33    34                        NaN                NaN             NaN   \n",
      "34    35                        NaN                NaN             NaN   \n",
      "35    36                        NaN                NaN             NaN   \n",
      "\n",
      "       MOBILE NO                          MAIL ID  \n",
      "0   9.494037e+09       ranjith.sheshala@gmail.com  \n",
      "1   9.703684e+09          sumanadipally@gmail.com  \n",
      "2   7.382600e+09        avvarumounica10@gmail.com  \n",
      "3   8.686118e+09        renukasirisha23@gmail.com  \n",
      "4   7.386425e+09          kantelathasri@gmail.com  \n",
      "5   9.542939e+09          deepikaatoori@gmail.com  \n",
      "6   9.010067e+09         sumera.14.sony@gmail.com  \n",
      "7   8.106425e+09    ravuribslskrishna47@gmail.com  \n",
      "8   8.501037e+09    karlakuntaavinash28@gmail.com  \n",
      "9   8.500899e+09           manisha23026@gmail.com  \n",
      "10  8.341276e+09        padma.kalagotla@gmail.com  \n",
      "11  8.978146e+09     lavanyasrinivas676@gmail.com  \n",
      "12  8.099367e+09            narendar253@gmail.com  \n",
      "13  8.466055e+09              dkanta124@gmail.com  \n",
      "14  9.912736e+09               ram.rn20@gmail.com  \n",
      "15  8.187800e+09            nareshogety@gmail.com  \n",
      "16  8.019894e+09                 lmvjbm@gmail.com  \n",
      "17  9.492412e+09      umakarsingathi393@gmail.com  \n",
      "18  9.908109e+09           suruvuharish@gmail.com  \n",
      "19  9.948464e+09    srinivas.tanduri515@gmail.com  \n",
      "20  9.573784e+09        d.venkatesh1995@gmail.com  \n",
      "21  8.686892e+09  chirumalla.dayakar777@gmail.com  \n",
      "22  9.030279e+09            suneeltejja@gmail.com  \n",
      "23  9.848316e+08                chsk846@gmail.com  \n",
      "24  9.963814e+09             yakkti.Dev@gmail.com  \n",
      "25  8.008020e+09             r.sreeram2@gmail.com  \n",
      "26  9.642180e+09        purushothamdo90@gmail.com  \n",
      "27  9.640022e+09             ram.sai499@gmail.com  \n",
      "28  8.985999e+09      reddyrusgendra143@gmail.com  \n",
      "29           NaN                              NaN  \n",
      "30           NaN                              NaN  \n",
      "31           NaN                              NaN  \n",
      "32           NaN                              NaN  \n",
      "33           NaN                              NaN  \n",
      "34           NaN                              NaN  \n",
      "35           NaN                              NaN  \n"
     ]
    }
   ],
   "source": [
    "import pandas as pk\n",
    "a=pk.read_excel(\"FTCP-8.xlsx\")\n",
    "print(a)"
   ]
  },
  {
   "cell_type": "code",
   "execution_count": 80,
   "metadata": {},
   "outputs": [
    {
     "ename": "AttributeError",
     "evalue": "module 'pandas' has no attribute 'to_excel'",
     "output_type": "error",
     "traceback": [
      "\u001b[1;31m---------------------------------------------------------------------------\u001b[0m",
      "\u001b[1;31mAttributeError\u001b[0m                            Traceback (most recent call last)",
      "\u001b[1;32m<ipython-input-80-c7b227f5c488>\u001b[0m in \u001b[0;36m<module>\u001b[1;34m\u001b[0m\n\u001b[0;32m      1\u001b[0m \u001b[1;32mimport\u001b[0m \u001b[0mpandas\u001b[0m \u001b[1;32mas\u001b[0m \u001b[0mpd\u001b[0m\u001b[1;33m\u001b[0m\u001b[1;33m\u001b[0m\u001b[0m\n\u001b[1;32m----> 2\u001b[1;33m \u001b[0ma\u001b[0m\u001b[1;33m=\u001b[0m\u001b[0mpd\u001b[0m\u001b[1;33m.\u001b[0m\u001b[0mto_excel\u001b[0m\u001b[1;33m(\u001b[0m\u001b[1;34m\"FTCP-8.xlsx\"\u001b[0m\u001b[1;33m)\u001b[0m\u001b[1;33m\u001b[0m\u001b[1;33m\u001b[0m\u001b[0m\n\u001b[0m\u001b[0;32m      3\u001b[0m \u001b[0mprint\u001b[0m\u001b[1;33m(\u001b[0m\u001b[0ma\u001b[0m\u001b[1;33m)\u001b[0m\u001b[1;33m\u001b[0m\u001b[1;33m\u001b[0m\u001b[0m\n",
      "\u001b[1;31mAttributeError\u001b[0m: module 'pandas' has no attribute 'to_excel'"
     ]
    }
   ],
   "source": [
    "import pandas as pd\n",
    "a=pd.to_excel(\"FTCP-8.xlsx\")\n",
    "print(a)"
   ]
  },
  {
   "cell_type": "code",
   "execution_count": 9,
   "metadata": {},
   "outputs": [],
   "source": [
    "a\n",
    "type(a)\n",
    "a.to_excel(\"./FTCP-8._modified.xlsx\")"
   ]
  },
  {
   "cell_type": "code",
   "execution_count": 13,
   "metadata": {},
   "outputs": [
    {
     "data": {
      "text/html": [
       "<div>\n",
       "<style scoped>\n",
       "    .dataframe tbody tr th:only-of-type {\n",
       "        vertical-align: middle;\n",
       "    }\n",
       "\n",
       "    .dataframe tbody tr th {\n",
       "        vertical-align: top;\n",
       "    }\n",
       "\n",
       "    .dataframe thead th {\n",
       "        text-align: right;\n",
       "    }\n",
       "</style>\n",
       "<table border=\"1\" class=\"dataframe\">\n",
       "  <thead>\n",
       "    <tr style=\"text-align: right;\">\n",
       "      <th></th>\n",
       "      <th>name</th>\n",
       "      <th>age</th>\n",
       "    </tr>\n",
       "  </thead>\n",
       "  <tbody>\n",
       "    <tr>\n",
       "      <td>0</td>\n",
       "      <td>ranjith</td>\n",
       "      <td>27</td>\n",
       "    </tr>\n",
       "    <tr>\n",
       "      <td>1</td>\n",
       "      <td>lucky</td>\n",
       "      <td>23</td>\n",
       "    </tr>\n",
       "    <tr>\n",
       "      <td>2</td>\n",
       "      <td>python</td>\n",
       "      <td>23</td>\n",
       "    </tr>\n",
       "    <tr>\n",
       "      <td>3</td>\n",
       "      <td>bangaram</td>\n",
       "      <td>24</td>\n",
       "    </tr>\n",
       "  </tbody>\n",
       "</table>\n",
       "</div>"
      ],
      "text/plain": [
       "       name  age\n",
       "0   ranjith   27\n",
       "1     lucky   23\n",
       "2    python   23\n",
       "3  bangaram   24"
      ]
     },
     "metadata": {},
     "output_type": "display_data"
    },
    {
     "data": {
      "text/html": [
       "<div>\n",
       "<style scoped>\n",
       "    .dataframe tbody tr th:only-of-type {\n",
       "        vertical-align: middle;\n",
       "    }\n",
       "\n",
       "    .dataframe tbody tr th {\n",
       "        vertical-align: top;\n",
       "    }\n",
       "\n",
       "    .dataframe thead th {\n",
       "        text-align: right;\n",
       "    }\n",
       "</style>\n",
       "<table border=\"1\" class=\"dataframe\">\n",
       "  <thead>\n",
       "    <tr style=\"text-align: right;\">\n",
       "      <th></th>\n",
       "      <th>name</th>\n",
       "      <th>age</th>\n",
       "    </tr>\n",
       "  </thead>\n",
       "  <tbody>\n",
       "    <tr>\n",
       "      <td>1</td>\n",
       "      <td>lucky</td>\n",
       "      <td>23</td>\n",
       "    </tr>\n",
       "    <tr>\n",
       "      <td>2</td>\n",
       "      <td>python</td>\n",
       "      <td>23</td>\n",
       "    </tr>\n",
       "    <tr>\n",
       "      <td>3</td>\n",
       "      <td>bangaram</td>\n",
       "      <td>24</td>\n",
       "    </tr>\n",
       "  </tbody>\n",
       "</table>\n",
       "</div>"
      ],
      "text/plain": [
       "       name  age\n",
       "1     lucky   23\n",
       "2    python   23\n",
       "3  bangaram   24"
      ]
     },
     "metadata": {},
     "output_type": "display_data"
    },
    {
     "data": {
      "text/html": [
       "<div>\n",
       "<style scoped>\n",
       "    .dataframe tbody tr th:only-of-type {\n",
       "        vertical-align: middle;\n",
       "    }\n",
       "\n",
       "    .dataframe tbody tr th {\n",
       "        vertical-align: top;\n",
       "    }\n",
       "\n",
       "    .dataframe thead th {\n",
       "        text-align: right;\n",
       "    }\n",
       "</style>\n",
       "<table border=\"1\" class=\"dataframe\">\n",
       "  <thead>\n",
       "    <tr style=\"text-align: right;\">\n",
       "      <th></th>\n",
       "      <th>name</th>\n",
       "      <th>age</th>\n",
       "    </tr>\n",
       "  </thead>\n",
       "  <tbody>\n",
       "    <tr>\n",
       "      <td>0</td>\n",
       "      <td>ranjith</td>\n",
       "      <td>27</td>\n",
       "    </tr>\n",
       "    <tr>\n",
       "      <td>1</td>\n",
       "      <td>lucky</td>\n",
       "      <td>23</td>\n",
       "    </tr>\n",
       "    <tr>\n",
       "      <td>2</td>\n",
       "      <td>python</td>\n",
       "      <td>23</td>\n",
       "    </tr>\n",
       "    <tr>\n",
       "      <td>3</td>\n",
       "      <td>bangaram</td>\n",
       "      <td>24</td>\n",
       "    </tr>\n",
       "  </tbody>\n",
       "</table>\n",
       "</div>"
      ],
      "text/plain": [
       "       name  age\n",
       "0   ranjith   27\n",
       "1     lucky   23\n",
       "2    python   23\n",
       "3  bangaram   24"
      ]
     },
     "metadata": {},
     "output_type": "display_data"
    },
    {
     "data": {
      "text/html": [
       "<div>\n",
       "<style scoped>\n",
       "    .dataframe tbody tr th:only-of-type {\n",
       "        vertical-align: middle;\n",
       "    }\n",
       "\n",
       "    .dataframe tbody tr th {\n",
       "        vertical-align: top;\n",
       "    }\n",
       "\n",
       "    .dataframe thead th {\n",
       "        text-align: right;\n",
       "    }\n",
       "</style>\n",
       "<table border=\"1\" class=\"dataframe\">\n",
       "  <thead>\n",
       "    <tr style=\"text-align: right;\">\n",
       "      <th></th>\n",
       "      <th>name</th>\n",
       "      <th>age</th>\n",
       "    </tr>\n",
       "  </thead>\n",
       "  <tbody>\n",
       "    <tr>\n",
       "      <td>1</td>\n",
       "      <td>lucky</td>\n",
       "      <td>23</td>\n",
       "    </tr>\n",
       "    <tr>\n",
       "      <td>2</td>\n",
       "      <td>python</td>\n",
       "      <td>23</td>\n",
       "    </tr>\n",
       "    <tr>\n",
       "      <td>3</td>\n",
       "      <td>bangaram</td>\n",
       "      <td>24</td>\n",
       "    </tr>\n",
       "  </tbody>\n",
       "</table>\n",
       "</div>"
      ],
      "text/plain": [
       "       name  age\n",
       "1     lucky   23\n",
       "2    python   23\n",
       "3  bangaram   24"
      ]
     },
     "metadata": {},
     "output_type": "display_data"
    }
   ],
   "source": [
    "import pandas as pd\n",
    "a=[['ranjith','lucky','python','bangaram'],[27,23,23,24]]\n",
    "c={'name':['ranjith','lucky','python','bangaram'],'age':[27,23,23,24]}\n",
    "df_b=pd.DataFrame(c)\n",
    "display(df_b)\n",
    "df_d=df_b.drop([0],inplace=False)\n",
    "display(df_d)\n",
    "display(df_b)\n",
    "df_b.drop([0],inplace=True)\n",
    "display(df_b)"
   ]
  },
  {
   "cell_type": "code",
   "execution_count": 8,
   "metadata": {},
   "outputs": [
    {
     "ename": "KeyError",
     "evalue": "\"['ranjith'] not found in axis\"",
     "output_type": "error",
     "traceback": [
      "\u001b[1;31m---------------------------------------------------------------------------\u001b[0m",
      "\u001b[1;31mKeyError\u001b[0m                                  Traceback (most recent call last)",
      "\u001b[1;32m<ipython-input-8-ec2b7d04aa18>\u001b[0m in \u001b[0;36m<module>\u001b[1;34m\u001b[0m\n\u001b[0;32m      3\u001b[0m \u001b[0mc\u001b[0m\u001b[1;33m=\u001b[0m\u001b[1;33m{\u001b[0m\u001b[1;34m'name'\u001b[0m\u001b[1;33m:\u001b[0m\u001b[1;33m[\u001b[0m\u001b[1;34m'ranjith'\u001b[0m\u001b[1;33m,\u001b[0m\u001b[1;34m'lucky'\u001b[0m\u001b[1;33m,\u001b[0m\u001b[1;34m'python'\u001b[0m\u001b[1;33m,\u001b[0m\u001b[1;34m'bangaram'\u001b[0m\u001b[1;33m]\u001b[0m\u001b[1;33m,\u001b[0m\u001b[1;34m'age'\u001b[0m\u001b[1;33m:\u001b[0m\u001b[1;33m[\u001b[0m\u001b[1;36m27\u001b[0m\u001b[1;33m,\u001b[0m\u001b[1;36m23\u001b[0m\u001b[1;33m,\u001b[0m\u001b[1;36m23\u001b[0m\u001b[1;33m,\u001b[0m\u001b[1;36m24\u001b[0m\u001b[1;33m]\u001b[0m\u001b[1;33m}\u001b[0m\u001b[1;33m\u001b[0m\u001b[1;33m\u001b[0m\u001b[0m\n\u001b[0;32m      4\u001b[0m \u001b[0mb\u001b[0m\u001b[1;33m=\u001b[0m\u001b[0mrk\u001b[0m\u001b[1;33m.\u001b[0m\u001b[0mDataFrame\u001b[0m\u001b[1;33m(\u001b[0m\u001b[0mc\u001b[0m\u001b[1;33m)\u001b[0m\u001b[1;33m\u001b[0m\u001b[1;33m\u001b[0m\u001b[0m\n\u001b[1;32m----> 5\u001b[1;33m \u001b[0md\u001b[0m\u001b[1;33m=\u001b[0m\u001b[0mb\u001b[0m\u001b[1;33m.\u001b[0m\u001b[0mdrop\u001b[0m\u001b[1;33m(\u001b[0m\u001b[1;33m[\u001b[0m\u001b[1;34m'ranjith'\u001b[0m\u001b[1;33m]\u001b[0m\u001b[1;33m,\u001b[0m\u001b[0minplace\u001b[0m\u001b[1;33m=\u001b[0m\u001b[1;32mTrue\u001b[0m\u001b[1;33m)\u001b[0m\u001b[1;33m\u001b[0m\u001b[1;33m\u001b[0m\u001b[0m\n\u001b[0m\u001b[0;32m      6\u001b[0m \u001b[0mprint\u001b[0m\u001b[1;33m(\u001b[0m\u001b[0md\u001b[0m\u001b[1;33m)\u001b[0m\u001b[1;33m\u001b[0m\u001b[1;33m\u001b[0m\u001b[0m\n",
      "\u001b[1;32mC:\\Program Files (x86)\\anaconda\\lib\\site-packages\\pandas\\core\\frame.py\u001b[0m in \u001b[0;36mdrop\u001b[1;34m(self, labels, axis, index, columns, level, inplace, errors)\u001b[0m\n\u001b[0;32m   4100\u001b[0m             \u001b[0mlevel\u001b[0m\u001b[1;33m=\u001b[0m\u001b[0mlevel\u001b[0m\u001b[1;33m,\u001b[0m\u001b[1;33m\u001b[0m\u001b[1;33m\u001b[0m\u001b[0m\n\u001b[0;32m   4101\u001b[0m             \u001b[0minplace\u001b[0m\u001b[1;33m=\u001b[0m\u001b[0minplace\u001b[0m\u001b[1;33m,\u001b[0m\u001b[1;33m\u001b[0m\u001b[1;33m\u001b[0m\u001b[0m\n\u001b[1;32m-> 4102\u001b[1;33m             \u001b[0merrors\u001b[0m\u001b[1;33m=\u001b[0m\u001b[0merrors\u001b[0m\u001b[1;33m,\u001b[0m\u001b[1;33m\u001b[0m\u001b[1;33m\u001b[0m\u001b[0m\n\u001b[0m\u001b[0;32m   4103\u001b[0m         )\n\u001b[0;32m   4104\u001b[0m \u001b[1;33m\u001b[0m\u001b[0m\n",
      "\u001b[1;32mC:\\Program Files (x86)\\anaconda\\lib\\site-packages\\pandas\\core\\generic.py\u001b[0m in \u001b[0;36mdrop\u001b[1;34m(self, labels, axis, index, columns, level, inplace, errors)\u001b[0m\n\u001b[0;32m   3912\u001b[0m         \u001b[1;32mfor\u001b[0m \u001b[0maxis\u001b[0m\u001b[1;33m,\u001b[0m \u001b[0mlabels\u001b[0m \u001b[1;32min\u001b[0m \u001b[0maxes\u001b[0m\u001b[1;33m.\u001b[0m\u001b[0mitems\u001b[0m\u001b[1;33m(\u001b[0m\u001b[1;33m)\u001b[0m\u001b[1;33m:\u001b[0m\u001b[1;33m\u001b[0m\u001b[1;33m\u001b[0m\u001b[0m\n\u001b[0;32m   3913\u001b[0m             \u001b[1;32mif\u001b[0m \u001b[0mlabels\u001b[0m \u001b[1;32mis\u001b[0m \u001b[1;32mnot\u001b[0m \u001b[1;32mNone\u001b[0m\u001b[1;33m:\u001b[0m\u001b[1;33m\u001b[0m\u001b[1;33m\u001b[0m\u001b[0m\n\u001b[1;32m-> 3914\u001b[1;33m                 \u001b[0mobj\u001b[0m \u001b[1;33m=\u001b[0m \u001b[0mobj\u001b[0m\u001b[1;33m.\u001b[0m\u001b[0m_drop_axis\u001b[0m\u001b[1;33m(\u001b[0m\u001b[0mlabels\u001b[0m\u001b[1;33m,\u001b[0m \u001b[0maxis\u001b[0m\u001b[1;33m,\u001b[0m \u001b[0mlevel\u001b[0m\u001b[1;33m=\u001b[0m\u001b[0mlevel\u001b[0m\u001b[1;33m,\u001b[0m \u001b[0merrors\u001b[0m\u001b[1;33m=\u001b[0m\u001b[0merrors\u001b[0m\u001b[1;33m)\u001b[0m\u001b[1;33m\u001b[0m\u001b[1;33m\u001b[0m\u001b[0m\n\u001b[0m\u001b[0;32m   3915\u001b[0m \u001b[1;33m\u001b[0m\u001b[0m\n\u001b[0;32m   3916\u001b[0m         \u001b[1;32mif\u001b[0m \u001b[0minplace\u001b[0m\u001b[1;33m:\u001b[0m\u001b[1;33m\u001b[0m\u001b[1;33m\u001b[0m\u001b[0m\n",
      "\u001b[1;32mC:\\Program Files (x86)\\anaconda\\lib\\site-packages\\pandas\\core\\generic.py\u001b[0m in \u001b[0;36m_drop_axis\u001b[1;34m(self, labels, axis, level, errors)\u001b[0m\n\u001b[0;32m   3944\u001b[0m                 \u001b[0mnew_axis\u001b[0m \u001b[1;33m=\u001b[0m \u001b[0maxis\u001b[0m\u001b[1;33m.\u001b[0m\u001b[0mdrop\u001b[0m\u001b[1;33m(\u001b[0m\u001b[0mlabels\u001b[0m\u001b[1;33m,\u001b[0m \u001b[0mlevel\u001b[0m\u001b[1;33m=\u001b[0m\u001b[0mlevel\u001b[0m\u001b[1;33m,\u001b[0m \u001b[0merrors\u001b[0m\u001b[1;33m=\u001b[0m\u001b[0merrors\u001b[0m\u001b[1;33m)\u001b[0m\u001b[1;33m\u001b[0m\u001b[1;33m\u001b[0m\u001b[0m\n\u001b[0;32m   3945\u001b[0m             \u001b[1;32melse\u001b[0m\u001b[1;33m:\u001b[0m\u001b[1;33m\u001b[0m\u001b[1;33m\u001b[0m\u001b[0m\n\u001b[1;32m-> 3946\u001b[1;33m                 \u001b[0mnew_axis\u001b[0m \u001b[1;33m=\u001b[0m \u001b[0maxis\u001b[0m\u001b[1;33m.\u001b[0m\u001b[0mdrop\u001b[0m\u001b[1;33m(\u001b[0m\u001b[0mlabels\u001b[0m\u001b[1;33m,\u001b[0m \u001b[0merrors\u001b[0m\u001b[1;33m=\u001b[0m\u001b[0merrors\u001b[0m\u001b[1;33m)\u001b[0m\u001b[1;33m\u001b[0m\u001b[1;33m\u001b[0m\u001b[0m\n\u001b[0m\u001b[0;32m   3947\u001b[0m             \u001b[0mresult\u001b[0m \u001b[1;33m=\u001b[0m \u001b[0mself\u001b[0m\u001b[1;33m.\u001b[0m\u001b[0mreindex\u001b[0m\u001b[1;33m(\u001b[0m\u001b[1;33m**\u001b[0m\u001b[1;33m{\u001b[0m\u001b[0maxis_name\u001b[0m\u001b[1;33m:\u001b[0m \u001b[0mnew_axis\u001b[0m\u001b[1;33m}\u001b[0m\u001b[1;33m)\u001b[0m\u001b[1;33m\u001b[0m\u001b[1;33m\u001b[0m\u001b[0m\n\u001b[0;32m   3948\u001b[0m \u001b[1;33m\u001b[0m\u001b[0m\n",
      "\u001b[1;32mC:\\Program Files (x86)\\anaconda\\lib\\site-packages\\pandas\\core\\indexes\\base.py\u001b[0m in \u001b[0;36mdrop\u001b[1;34m(self, labels, errors)\u001b[0m\n\u001b[0;32m   5338\u001b[0m         \u001b[1;32mif\u001b[0m \u001b[0mmask\u001b[0m\u001b[1;33m.\u001b[0m\u001b[0many\u001b[0m\u001b[1;33m(\u001b[0m\u001b[1;33m)\u001b[0m\u001b[1;33m:\u001b[0m\u001b[1;33m\u001b[0m\u001b[1;33m\u001b[0m\u001b[0m\n\u001b[0;32m   5339\u001b[0m             \u001b[1;32mif\u001b[0m \u001b[0merrors\u001b[0m \u001b[1;33m!=\u001b[0m \u001b[1;34m\"ignore\"\u001b[0m\u001b[1;33m:\u001b[0m\u001b[1;33m\u001b[0m\u001b[1;33m\u001b[0m\u001b[0m\n\u001b[1;32m-> 5340\u001b[1;33m                 \u001b[1;32mraise\u001b[0m \u001b[0mKeyError\u001b[0m\u001b[1;33m(\u001b[0m\u001b[1;34m\"{} not found in axis\"\u001b[0m\u001b[1;33m.\u001b[0m\u001b[0mformat\u001b[0m\u001b[1;33m(\u001b[0m\u001b[0mlabels\u001b[0m\u001b[1;33m[\u001b[0m\u001b[0mmask\u001b[0m\u001b[1;33m]\u001b[0m\u001b[1;33m)\u001b[0m\u001b[1;33m)\u001b[0m\u001b[1;33m\u001b[0m\u001b[1;33m\u001b[0m\u001b[0m\n\u001b[0m\u001b[0;32m   5341\u001b[0m             \u001b[0mindexer\u001b[0m \u001b[1;33m=\u001b[0m \u001b[0mindexer\u001b[0m\u001b[1;33m[\u001b[0m\u001b[1;33m~\u001b[0m\u001b[0mmask\u001b[0m\u001b[1;33m]\u001b[0m\u001b[1;33m\u001b[0m\u001b[1;33m\u001b[0m\u001b[0m\n\u001b[0;32m   5342\u001b[0m         \u001b[1;32mreturn\u001b[0m \u001b[0mself\u001b[0m\u001b[1;33m.\u001b[0m\u001b[0mdelete\u001b[0m\u001b[1;33m(\u001b[0m\u001b[0mindexer\u001b[0m\u001b[1;33m)\u001b[0m\u001b[1;33m\u001b[0m\u001b[1;33m\u001b[0m\u001b[0m\n",
      "\u001b[1;31mKeyError\u001b[0m: \"['ranjith'] not found in axis\""
     ]
    }
   ],
   "source": [
    "import pandas as rk\n",
    "a=[['ranjith','lucky','python','bangaram'],[27,23,23,24]]\n",
    "c={'name':['ranjith','lucky','python','bangaram'],'age':[27,23,23,24]}\n",
    "b=rk.DataFrame(c)\n",
    "d=b.drop(['ranjith'],inplace=True)\n",
    "print(d)"
   ]
  },
  {
   "cell_type": "code",
   "execution_count": 4,
   "metadata": {},
   "outputs": [
    {
     "name": "stdout",
     "output_type": "stream",
     "text": [
      "    S.No               STUDENT NAME      QUALIFICATION  YEAR OF PASSED  \\\n",
      "0      1           S.RANJEETH KUMAR       B.TECH (EEE)          2016.0   \n",
      "1      2                N.SUMALATHA       B.TECH (ECE)          2015.0   \n",
      "2      3                  A.MOUNICA       B.TECH (ECE)          2016.0   \n",
      "3      4           M.RENUKA SIRISHA       B.TECH (ECE)          2017.0   \n",
      "4      5                K.LATHA SRI       B.TECH (ECE)          2014.0   \n",
      "5      6                  A.DEEPIKA  M.SC (STATISTICS)          2015.0   \n",
      "6      7             SUMERA FIRDOUS      DIPLOMA (ECE)          2017.0   \n",
      "7      8              R.BALAKRISHNA       B.TECH (ECE)          2017.0   \n",
      "8      9                  K.AVINASH       B.TECH (EEE)          2017.0   \n",
      "9     10                  G.MANISHA       B.TECH (ECE)          2015.0   \n",
      "10    11               K.PADMA SREE        B.SC (MPCs)          2016.0   \n",
      "11    12                  M.LAVANYA        B.SC (MECs)          2016.0   \n",
      "12    13                 B.NARENDAR       B.TECH (EEE)          2015.0   \n",
      "13    14         D.NEELAKANTA REDDY     B.TECH (CIVIL)          2016.0   \n",
      "14    15                     Y.RAJA      B.TECH (MECH)          2015.0   \n",
      "15    16                   O.NARESH      B.TECH (MECH)          2016.0   \n",
      "16    17         K.VINOD KUMAR NAIK      B.TECH (MECH)          2017.0   \n",
      "17    18                   S.UMAKAR       B.TECH (ECE)          2016.0   \n",
      "18    19                   S.HARISH       B.TECH (ECE)          2016.0   \n",
      "19    20                 T.SRINIVAS     DIPLOMA (MECH)          2017.0   \n",
      "20    21                D.VENKATESH        B.TECH (ME)          2016.0   \n",
      "21    22                 CH.DAYAKAR        B.TECH (ME)          2016.0   \n",
      "22    23              V.SUNIL KUMAR         B.SC (ELE)          2011.0   \n",
      "23    24           CH.SANDEEP KUMAR       B.TECH (ECE)          2015.0   \n",
      "24    25  Y.DEVA NAGA NARENDRA BABU       B.TECH (ECE)          2017.0   \n",
      "25    26               R.SREERAMULU      B.TECH (MECH)          2016.0   \n",
      "26    27              N.PURUSHOTHAM       B.TECH (EEE)          2016.0   \n",
      "27    28         VEMULAPALLI SAIRAM      B.TECH (MECH)          2016.0   \n",
      "28    29            RUSHENDRA REDDY     B.TECH (CIVIL)          2016.0   \n",
      "29    30                        NaN                NaN             NaN   \n",
      "30    31                        NaN                NaN             NaN   \n",
      "31    32                        NaN                NaN             NaN   \n",
      "32    33                        NaN                NaN             NaN   \n",
      "33    34                        NaN                NaN             NaN   \n",
      "34    35                        NaN                NaN             NaN   \n",
      "35    36                        NaN                NaN             NaN   \n",
      "\n",
      "       MOBILE NO                          MAIL ID  \n",
      "0   9.494037e+09       ranjith.sheshala@gmail.com  \n",
      "1   9.703684e+09          sumanadipally@gmail.com  \n",
      "2   7.382600e+09        avvarumounica10@gmail.com  \n",
      "3   8.686118e+09        renukasirisha23@gmail.com  \n",
      "4   7.386425e+09          kantelathasri@gmail.com  \n",
      "5   9.542939e+09          deepikaatoori@gmail.com  \n",
      "6   9.010067e+09         sumera.14.sony@gmail.com  \n",
      "7   8.106425e+09    ravuribslskrishna47@gmail.com  \n",
      "8   8.501037e+09    karlakuntaavinash28@gmail.com  \n",
      "9   8.500899e+09           manisha23026@gmail.com  \n",
      "10  8.341276e+09        padma.kalagotla@gmail.com  \n",
      "11  8.978146e+09     lavanyasrinivas676@gmail.com  \n",
      "12  8.099367e+09            narendar253@gmail.com  \n",
      "13  8.466055e+09              dkanta124@gmail.com  \n",
      "14  9.912736e+09               ram.rn20@gmail.com  \n",
      "15  8.187800e+09            nareshogety@gmail.com  \n",
      "16  8.019894e+09                 lmvjbm@gmail.com  \n",
      "17  9.492412e+09      umakarsingathi393@gmail.com  \n",
      "18  9.908109e+09           suruvuharish@gmail.com  \n",
      "19  9.948464e+09    srinivas.tanduri515@gmail.com  \n",
      "20  9.573784e+09        d.venkatesh1995@gmail.com  \n",
      "21  8.686892e+09  chirumalla.dayakar777@gmail.com  \n",
      "22  9.030279e+09            suneeltejja@gmail.com  \n",
      "23  9.848316e+08                chsk846@gmail.com  \n",
      "24  9.963814e+09             yakkti.Dev@gmail.com  \n",
      "25  8.008020e+09             r.sreeram2@gmail.com  \n",
      "26  9.642180e+09        purushothamdo90@gmail.com  \n",
      "27  9.640022e+09             ram.sai499@gmail.com  \n",
      "28  8.985999e+09      reddyrusgendra143@gmail.com  \n",
      "29           NaN                              NaN  \n",
      "30           NaN                              NaN  \n",
      "31           NaN                              NaN  \n",
      "32           NaN                              NaN  \n",
      "33           NaN                              NaN  \n",
      "34           NaN                              NaN  \n",
      "35           NaN                              NaN  \n",
      "    S.No                    STD NME      QUALIFICATION  YEAR OF PASSED  \\\n",
      "0      1           S.RANJEETH KUMAR       B.TECH (EEE)          2016.0   \n",
      "1      2                N.SUMALATHA       B.TECH (ECE)          2015.0   \n",
      "2      3                  A.MOUNICA       B.TECH (ECE)          2016.0   \n",
      "3      4           M.RENUKA SIRISHA       B.TECH (ECE)          2017.0   \n",
      "4      5                K.LATHA SRI       B.TECH (ECE)          2014.0   \n",
      "5      6                  A.DEEPIKA  M.SC (STATISTICS)          2015.0   \n",
      "6      7             SUMERA FIRDOUS      DIPLOMA (ECE)          2017.0   \n",
      "7      8              R.BALAKRISHNA       B.TECH (ECE)          2017.0   \n",
      "8      9                  K.AVINASH       B.TECH (EEE)          2017.0   \n",
      "9     10                  G.MANISHA       B.TECH (ECE)          2015.0   \n",
      "10    11               K.PADMA SREE        B.SC (MPCs)          2016.0   \n",
      "11    12                  M.LAVANYA        B.SC (MECs)          2016.0   \n",
      "12    13                 B.NARENDAR       B.TECH (EEE)          2015.0   \n",
      "13    14         D.NEELAKANTA REDDY     B.TECH (CIVIL)          2016.0   \n",
      "14    15                     Y.RAJA      B.TECH (MECH)          2015.0   \n",
      "15    16                   O.NARESH      B.TECH (MECH)          2016.0   \n",
      "16    17         K.VINOD KUMAR NAIK      B.TECH (MECH)          2017.0   \n",
      "17    18                   S.UMAKAR       B.TECH (ECE)          2016.0   \n",
      "18    19                   S.HARISH       B.TECH (ECE)          2016.0   \n",
      "19    20                 T.SRINIVAS     DIPLOMA (MECH)          2017.0   \n",
      "20    21                D.VENKATESH        B.TECH (ME)          2016.0   \n",
      "21    22                 CH.DAYAKAR        B.TECH (ME)          2016.0   \n",
      "22    23              V.SUNIL KUMAR         B.SC (ELE)          2011.0   \n",
      "23    24           CH.SANDEEP KUMAR       B.TECH (ECE)          2015.0   \n",
      "24    25  Y.DEVA NAGA NARENDRA BABU       B.TECH (ECE)          2017.0   \n",
      "25    26               R.SREERAMULU      B.TECH (MECH)          2016.0   \n",
      "26    27              N.PURUSHOTHAM       B.TECH (EEE)          2016.0   \n",
      "27    28         VEMULAPALLI SAIRAM      B.TECH (MECH)          2016.0   \n",
      "28    29            RUSHENDRA REDDY     B.TECH (CIVIL)          2016.0   \n",
      "29    30                        NaN                NaN             NaN   \n",
      "30    31                        NaN                NaN             NaN   \n",
      "31    32                        NaN                NaN             NaN   \n",
      "32    33                        NaN                NaN             NaN   \n",
      "33    34                        NaN                NaN             NaN   \n",
      "34    35                        NaN                NaN             NaN   \n",
      "35    36                        NaN                NaN             NaN   \n",
      "\n",
      "       MOBILE NO                          MAIL ID  \n",
      "0   9.494037e+09       ranjith.sheshala@gmail.com  \n",
      "1   9.703684e+09          sumanadipally@gmail.com  \n",
      "2   7.382600e+09        avvarumounica10@gmail.com  \n",
      "3   8.686118e+09        renukasirisha23@gmail.com  \n",
      "4   7.386425e+09          kantelathasri@gmail.com  \n",
      "5   9.542939e+09          deepikaatoori@gmail.com  \n",
      "6   9.010067e+09         sumera.14.sony@gmail.com  \n",
      "7   8.106425e+09    ravuribslskrishna47@gmail.com  \n",
      "8   8.501037e+09    karlakuntaavinash28@gmail.com  \n",
      "9   8.500899e+09           manisha23026@gmail.com  \n",
      "10  8.341276e+09        padma.kalagotla@gmail.com  \n",
      "11  8.978146e+09     lavanyasrinivas676@gmail.com  \n",
      "12  8.099367e+09            narendar253@gmail.com  \n",
      "13  8.466055e+09              dkanta124@gmail.com  \n",
      "14  9.912736e+09               ram.rn20@gmail.com  \n",
      "15  8.187800e+09            nareshogety@gmail.com  \n",
      "16  8.019894e+09                 lmvjbm@gmail.com  \n",
      "17  9.492412e+09      umakarsingathi393@gmail.com  \n",
      "18  9.908109e+09           suruvuharish@gmail.com  \n",
      "19  9.948464e+09    srinivas.tanduri515@gmail.com  \n",
      "20  9.573784e+09        d.venkatesh1995@gmail.com  \n",
      "21  8.686892e+09  chirumalla.dayakar777@gmail.com  \n",
      "22  9.030279e+09            suneeltejja@gmail.com  \n",
      "23  9.848316e+08                chsk846@gmail.com  \n",
      "24  9.963814e+09             yakkti.Dev@gmail.com  \n",
      "25  8.008020e+09             r.sreeram2@gmail.com  \n",
      "26  9.642180e+09        purushothamdo90@gmail.com  \n",
      "27  9.640022e+09             ram.sai499@gmail.com  \n",
      "28  8.985999e+09      reddyrusgendra143@gmail.com  \n",
      "29           NaN                              NaN  \n",
      "30           NaN                              NaN  \n",
      "31           NaN                              NaN  \n",
      "32           NaN                              NaN  \n",
      "33           NaN                              NaN  \n",
      "34           NaN                              NaN  \n",
      "35           NaN                              NaN  \n"
     ]
    }
   ],
   "source": [
    "import pandas as pd\n",
    "a=pd.read_excel(\"FTCP-8.xlsx\")\n",
    "b=a.rename(columns={\"STUDENT NAME\":\"STD NME\"})\n",
    "print(a)\n",
    "print(b)\n"
   ]
  },
  {
   "cell_type": "code",
   "execution_count": 27,
   "metadata": {},
   "outputs": [
    {
     "name": "stdout",
     "output_type": "stream",
     "text": [
      "    S.No               STUDENT NAME      QUALIFICATION  YEAR OF PASSED  \\\n",
      "5      6                  A.DEEPIKA  M.SC (STATISTICS)          2015.0   \n",
      "2      3                  A.MOUNICA       B.TECH (ECE)          2016.0   \n",
      "12    13                 B.NARENDAR       B.TECH (EEE)          2015.0   \n",
      "21    22                 CH.DAYAKAR        B.TECH (ME)          2016.0   \n",
      "23    24           CH.SANDEEP KUMAR       B.TECH (ECE)          2015.0   \n",
      "13    14         D.NEELAKANTA REDDY     B.TECH (CIVIL)          2016.0   \n",
      "20    21                D.VENKATESH        B.TECH (ME)          2016.0   \n",
      "9     10                  G.MANISHA       B.TECH (ECE)          2015.0   \n",
      "8      9                  K.AVINASH       B.TECH (EEE)          2017.0   \n",
      "4      5                K.LATHA SRI       B.TECH (ECE)          2014.0   \n",
      "10    11               K.PADMA SREE        B.SC (MPCs)          2016.0   \n",
      "16    17         K.VINOD KUMAR NAIK      B.TECH (MECH)          2017.0   \n",
      "11    12                  M.LAVANYA        B.SC (MECs)          2016.0   \n",
      "3      4           M.RENUKA SIRISHA       B.TECH (ECE)          2017.0   \n",
      "26    27              N.PURUSHOTHAM       B.TECH (EEE)          2016.0   \n",
      "1      2                N.SUMALATHA       B.TECH (ECE)          2015.0   \n",
      "15    16                   O.NARESH      B.TECH (MECH)          2016.0   \n",
      "7      8              R.BALAKRISHNA       B.TECH (ECE)          2017.0   \n",
      "25    26               R.SREERAMULU      B.TECH (MECH)          2016.0   \n",
      "28    29            RUSHENDRA REDDY     B.TECH (CIVIL)          2016.0   \n",
      "18    19                   S.HARISH       B.TECH (ECE)          2016.0   \n",
      "0      1           S.RANJEETH KUMAR       B.TECH (EEE)          2016.0   \n",
      "17    18                   S.UMAKAR       B.TECH (ECE)          2016.0   \n",
      "6      7             SUMERA FIRDOUS      DIPLOMA (ECE)          2017.0   \n",
      "19    20                 T.SRINIVAS     DIPLOMA (MECH)          2017.0   \n",
      "22    23              V.SUNIL KUMAR         B.SC (ELE)          2011.0   \n",
      "27    28         VEMULAPALLI SAIRAM      B.TECH (MECH)          2016.0   \n",
      "24    25  Y.DEVA NAGA NARENDRA BABU       B.TECH (ECE)          2017.0   \n",
      "14    15                     Y.RAJA      B.TECH (MECH)          2015.0   \n",
      "29    30                        NaN                NaN             NaN   \n",
      "30    31                        NaN                NaN             NaN   \n",
      "31    32                        NaN                NaN             NaN   \n",
      "32    33                        NaN                NaN             NaN   \n",
      "33    34                        NaN                NaN             NaN   \n",
      "34    35                        NaN                NaN             NaN   \n",
      "35    36                        NaN                NaN             NaN   \n",
      "\n",
      "       MOBILE NO                          MAIL ID  \n",
      "5   9.542939e+09          deepikaatoori@gmail.com  \n",
      "2   7.382600e+09        avvarumounica10@gmail.com  \n",
      "12  8.099367e+09            narendar253@gmail.com  \n",
      "21  8.686892e+09  chirumalla.dayakar777@gmail.com  \n",
      "23  9.848316e+08                chsk846@gmail.com  \n",
      "13  8.466055e+09              dkanta124@gmail.com  \n",
      "20  9.573784e+09        d.venkatesh1995@gmail.com  \n",
      "9   8.500899e+09           manisha23026@gmail.com  \n",
      "8   8.501037e+09    karlakuntaavinash28@gmail.com  \n",
      "4   7.386425e+09          kantelathasri@gmail.com  \n",
      "10  8.341276e+09        padma.kalagotla@gmail.com  \n",
      "16  8.019894e+09                 lmvjbm@gmail.com  \n",
      "11  8.978146e+09     lavanyasrinivas676@gmail.com  \n",
      "3   8.686118e+09        renukasirisha23@gmail.com  \n",
      "26  9.642180e+09        purushothamdo90@gmail.com  \n",
      "1   9.703684e+09          sumanadipally@gmail.com  \n",
      "15  8.187800e+09            nareshogety@gmail.com  \n",
      "7   8.106425e+09    ravuribslskrishna47@gmail.com  \n",
      "25  8.008020e+09             r.sreeram2@gmail.com  \n",
      "28  8.985999e+09      reddyrusgendra143@gmail.com  \n",
      "18  9.908109e+09           suruvuharish@gmail.com  \n",
      "0   9.494037e+09       ranjith.sheshala@gmail.com  \n",
      "17  9.492412e+09      umakarsingathi393@gmail.com  \n",
      "6   9.010067e+09         sumera.14.sony@gmail.com  \n",
      "19  9.948464e+09    srinivas.tanduri515@gmail.com  \n",
      "22  9.030279e+09            suneeltejja@gmail.com  \n",
      "27  9.640022e+09             ram.sai499@gmail.com  \n",
      "24  9.963814e+09             yakkti.Dev@gmail.com  \n",
      "14  9.912736e+09               ram.rn20@gmail.com  \n",
      "29           NaN                              NaN  \n",
      "30           NaN                              NaN  \n",
      "31           NaN                              NaN  \n",
      "32           NaN                              NaN  \n",
      "33           NaN                              NaN  \n",
      "34           NaN                              NaN  \n",
      "35           NaN                              NaN  \n",
      "                            MAIL ID     MOBILE NO      QUALIFICATION  S.No  \\\n",
      "0        ranjith.sheshala@gmail.com  9.494037e+09       B.TECH (EEE)     1   \n",
      "1           sumanadipally@gmail.com  9.703684e+09       B.TECH (ECE)     2   \n",
      "2         avvarumounica10@gmail.com  7.382600e+09       B.TECH (ECE)     3   \n",
      "3         renukasirisha23@gmail.com  8.686118e+09       B.TECH (ECE)     4   \n",
      "4           kantelathasri@gmail.com  7.386425e+09       B.TECH (ECE)     5   \n",
      "5           deepikaatoori@gmail.com  9.542939e+09  M.SC (STATISTICS)     6   \n",
      "6          sumera.14.sony@gmail.com  9.010067e+09      DIPLOMA (ECE)     7   \n",
      "7     ravuribslskrishna47@gmail.com  8.106425e+09       B.TECH (ECE)     8   \n",
      "8     karlakuntaavinash28@gmail.com  8.501037e+09       B.TECH (EEE)     9   \n",
      "9            manisha23026@gmail.com  8.500899e+09       B.TECH (ECE)    10   \n",
      "10        padma.kalagotla@gmail.com  8.341276e+09        B.SC (MPCs)    11   \n",
      "11     lavanyasrinivas676@gmail.com  8.978146e+09        B.SC (MECs)    12   \n",
      "12            narendar253@gmail.com  8.099367e+09       B.TECH (EEE)    13   \n",
      "13              dkanta124@gmail.com  8.466055e+09     B.TECH (CIVIL)    14   \n",
      "14               ram.rn20@gmail.com  9.912736e+09      B.TECH (MECH)    15   \n",
      "15            nareshogety@gmail.com  8.187800e+09      B.TECH (MECH)    16   \n",
      "16                 lmvjbm@gmail.com  8.019894e+09      B.TECH (MECH)    17   \n",
      "17      umakarsingathi393@gmail.com  9.492412e+09       B.TECH (ECE)    18   \n",
      "18           suruvuharish@gmail.com  9.908109e+09       B.TECH (ECE)    19   \n",
      "19    srinivas.tanduri515@gmail.com  9.948464e+09     DIPLOMA (MECH)    20   \n",
      "20        d.venkatesh1995@gmail.com  9.573784e+09        B.TECH (ME)    21   \n",
      "21  chirumalla.dayakar777@gmail.com  8.686892e+09        B.TECH (ME)    22   \n",
      "22            suneeltejja@gmail.com  9.030279e+09         B.SC (ELE)    23   \n",
      "23                chsk846@gmail.com  9.848316e+08       B.TECH (ECE)    24   \n",
      "24             yakkti.Dev@gmail.com  9.963814e+09       B.TECH (ECE)    25   \n",
      "25             r.sreeram2@gmail.com  8.008020e+09      B.TECH (MECH)    26   \n",
      "26        purushothamdo90@gmail.com  9.642180e+09       B.TECH (EEE)    27   \n",
      "27             ram.sai499@gmail.com  9.640022e+09      B.TECH (MECH)    28   \n",
      "28      reddyrusgendra143@gmail.com  8.985999e+09     B.TECH (CIVIL)    29   \n",
      "29                              NaN           NaN                NaN    30   \n",
      "30                              NaN           NaN                NaN    31   \n",
      "31                              NaN           NaN                NaN    32   \n",
      "32                              NaN           NaN                NaN    33   \n",
      "33                              NaN           NaN                NaN    34   \n",
      "34                              NaN           NaN                NaN    35   \n",
      "35                              NaN           NaN                NaN    36   \n",
      "\n",
      "                 STUDENT NAME  YEAR OF PASSED  \n",
      "0            S.RANJEETH KUMAR          2016.0  \n",
      "1                 N.SUMALATHA          2015.0  \n",
      "2                   A.MOUNICA          2016.0  \n",
      "3            M.RENUKA SIRISHA          2017.0  \n",
      "4                 K.LATHA SRI          2014.0  \n",
      "5                   A.DEEPIKA          2015.0  \n",
      "6              SUMERA FIRDOUS          2017.0  \n",
      "7               R.BALAKRISHNA          2017.0  \n",
      "8                   K.AVINASH          2017.0  \n",
      "9                   G.MANISHA          2015.0  \n",
      "10               K.PADMA SREE          2016.0  \n",
      "11                  M.LAVANYA          2016.0  \n",
      "12                 B.NARENDAR          2015.0  \n",
      "13         D.NEELAKANTA REDDY          2016.0  \n",
      "14                     Y.RAJA          2015.0  \n",
      "15                   O.NARESH          2016.0  \n",
      "16         K.VINOD KUMAR NAIK          2017.0  \n",
      "17                   S.UMAKAR          2016.0  \n",
      "18                   S.HARISH          2016.0  \n",
      "19                 T.SRINIVAS          2017.0  \n",
      "20                D.VENKATESH          2016.0  \n",
      "21                 CH.DAYAKAR          2016.0  \n",
      "22              V.SUNIL KUMAR          2011.0  \n",
      "23           CH.SANDEEP KUMAR          2015.0  \n",
      "24  Y.DEVA NAGA NARENDRA BABU          2017.0  \n",
      "25               R.SREERAMULU          2016.0  \n",
      "26              N.PURUSHOTHAM          2016.0  \n",
      "27         VEMULAPALLI SAIRAM          2016.0  \n",
      "28            RUSHENDRA REDDY          2016.0  \n",
      "29                        NaN             NaN  \n",
      "30                        NaN             NaN  \n",
      "31                        NaN             NaN  \n",
      "32                        NaN             NaN  \n",
      "33                        NaN             NaN  \n",
      "34                        NaN             NaN  \n",
      "35                        NaN             NaN  \n",
      "None\n"
     ]
    }
   ],
   "source": [
    "import pandas as pd\n",
    "a=pd.read_excel(\"FTCP-8.xlsx\")\n",
    "b=a.sort_index(axis=1)\n",
    "c=a.sort_values(\"STUDENT NAME\",ascending=True,inplace=True)\n",
    "print(a)\n",
    "print(b)\n",
    "print(c)"
   ]
  },
  {
   "cell_type": "code",
   "execution_count": 46,
   "metadata": {},
   "outputs": [
    {
     "name": "stdout",
     "output_type": "stream",
     "text": [
      "   Index          Name  Age     Contry\n",
      "0      1       Ranjith   27      India\n",
      "1      2         laxmi   23  Australia\n",
      "2      3        python   23      Assie\n",
      "3      4  bujji thalli   24      India\n",
      "   Index          Name  Age     Contry\n",
      "0      1       Ranjith   27      India\n",
      "1      2         laxmi   23  Australia\n",
      "2      3        python   23      Assie\n",
      "3      4  bujji thalli   24      India\n",
      "4      5    Hari PAndi   60    Nigeria\n"
     ]
    }
   ],
   "source": [
    "import pandas as pd\n",
    "a={'Index':[1,2,3,4],'Name':['Ranjith','laxmi','python','bujji thalli'],'Age':[27,23,23,24],'Contry':['India','Australia','Assie','India']}\n",
    "b=pd.DataFrame(a)\n",
    "c=b.append({'Index':5,'Name':'Hari PAndi','Age':60,'Contry':'Nigeria'},ignore_index=True)\n",
    "print(b)\n",
    "print(c)"
   ]
  },
  {
   "cell_type": "code",
   "execution_count": 16,
   "metadata": {},
   "outputs": [
    {
     "name": "stdout",
     "output_type": "stream",
     "text": [
      "   Index          Name     contry\n",
      "0      1       Ranjith      India\n",
      "1      2         laxmi  Australia\n",
      "2      3        python     Aussie\n",
      "3      4  bujji thalli      India\n"
     ]
    }
   ],
   "source": [
    "a={'Index':[1,2,3,4],'Name':['Ranjith','laxmi','python','bujji thalli'],'Age':[27,23,23,24],'contry':['India','Australia','Aussie','India']}\n",
    "b=pd.DataFrame(a)\n",
    "#print(b)\n",
    "c=b.assign(pincode=[3011,3012,3013,3014])\n",
    "#print(c)\n",
    "d=b.drop([\"Age\"],axis=1,inplace=True)\n",
    "print(b)"
   ]
  },
  {
   "cell_type": "code",
   "execution_count": 24,
   "metadata": {},
   "outputs": [
    {
     "name": "stdout",
     "output_type": "stream",
     "text": [
      "   A  B\n",
      "0  2  3\n",
      "1  4  5\n",
      "2  6  7\n",
      "          A         B\n",
      "0  1.414214  1.732051\n",
      "1  2.000000  2.236068\n",
      "2  2.449490  2.645751\n",
      "0     5\n",
      "1     9\n",
      "2    13\n",
      "dtype: int64\n",
      "0     7\n",
      "1     9\n",
      "2    11\n",
      "dtype: int64\n"
     ]
    }
   ],
   "source": [
    "import numpy as np,pandas as pd\n",
    "a={\"A\":[2,4,6],\"B\":[3,5,7]}\n",
    "b=pd.DataFrame(a)\n",
    "print(b)\n",
    "c=b.apply(np.sqrt)\n",
    "print(c)\n",
    "d=b.apply(np.sum,axis=1)\n",
    "print(d)\n",
    "\n",
    "e=lambda x,y:x+y\n",
    "e(55,65)\n",
    "f=b.apply(lambda y:y['A']+5,axis=1)\n",
    "print(f)"
   ]
  },
  {
   "cell_type": "code",
   "execution_count": 28,
   "metadata": {},
   "outputs": [
    {
     "data": {
      "text/html": [
       "<div>\n",
       "<style scoped>\n",
       "    .dataframe tbody tr th:only-of-type {\n",
       "        vertical-align: middle;\n",
       "    }\n",
       "\n",
       "    .dataframe tbody tr th {\n",
       "        vertical-align: top;\n",
       "    }\n",
       "\n",
       "    .dataframe thead th {\n",
       "        text-align: right;\n",
       "    }\n",
       "</style>\n",
       "<table border=\"1\" class=\"dataframe\">\n",
       "  <thead>\n",
       "    <tr style=\"text-align: right;\">\n",
       "      <th></th>\n",
       "      <th>Sex</th>\n",
       "      <th>sex_new</th>\n",
       "    </tr>\n",
       "  </thead>\n",
       "  <tbody>\n",
       "    <tr>\n",
       "      <td>0</td>\n",
       "      <td>male</td>\n",
       "      <td>1</td>\n",
       "    </tr>\n",
       "    <tr>\n",
       "      <td>1</td>\n",
       "      <td>female</td>\n",
       "      <td>0</td>\n",
       "    </tr>\n",
       "    <tr>\n",
       "      <td>2</td>\n",
       "      <td>female</td>\n",
       "      <td>0</td>\n",
       "    </tr>\n",
       "    <tr>\n",
       "      <td>3</td>\n",
       "      <td>female</td>\n",
       "      <td>0</td>\n",
       "    </tr>\n",
       "    <tr>\n",
       "      <td>4</td>\n",
       "      <td>male</td>\n",
       "      <td>1</td>\n",
       "    </tr>\n",
       "  </tbody>\n",
       "</table>\n",
       "</div>"
      ],
      "text/plain": [
       "      Sex  sex_new\n",
       "0    male        1\n",
       "1  female        0\n",
       "2  female        0\n",
       "3  female        0\n",
       "4    male        1"
      ]
     },
     "execution_count": 28,
     "metadata": {},
     "output_type": "execute_result"
    }
   ],
   "source": [
    "import numpy as nd,pandas as pk\n",
    "a=pk.read_csv('http://bit.ly/kaggletrain')\n",
    "a.head()\n",
    "a['sex_new']=a.Sex.map({'male':1,'female':0})\n",
    "a.loc[0:4,['Sex','sex_new']]\n"
   ]
  },
  {
   "cell_type": "code",
   "execution_count": null,
   "metadata": {},
   "outputs": [],
   "source": [
    "import numpy as nd,pandas as pk\n",
    "a=pk.read_csv('http://bit.ly/kaggletrain')\n",
    "a.head()\n",
    "#a['name_new']=a.Name.apply(len)\n",
    "#a.loc[0:4,['Name','name_new']]\n",
    "#a['fare_new']=a.Fare.apply(nd.ceil)\n",
    "#a.loc[0:4,['Fare','fare_new']]"
   ]
  },
  {
   "cell_type": "code",
   "execution_count": 17,
   "metadata": {},
   "outputs": [
    {
     "name": "stdout",
     "output_type": "stream",
     "text": [
      "      A    B      C  D  E\n",
      "0  food  one  small  1  2\n",
      "1  food  one  large  2  4\n",
      "2  food  one  small  2  5\n",
      "3  food  one  large  3  5\n",
      "4  food  two  small  4  6\n",
      "5   bar  two  large  5  2\n",
      "6   bar  two  small  2  4\n",
      "7   bar  one  large  3  6\n",
      "             D      \n",
      "C        large small\n",
      "A    B              \n",
      "bar  one   3.0   0.0\n",
      "     two   5.0   2.0\n",
      "food one   2.5   1.5\n",
      "     two   0.0   4.0\n"
     ]
    }
   ],
   "source": [
    "import pandas as rk\n",
    "a=rk.DataFrame({'A':['food','food','food','food','food','bar','bar','bar'],'B':['one','one','one','one','two','two','two','one'],'C':['small','large','small','large','small','large','small','large'],'D':[1,2,2,3,4,5,2,3],'E':[2,4,5,5,6,2,4,6]})\n",
    "print(a)\n",
    "b=rk.pivot_table(a,index=['A','B'],columns=['C'],values=['D'],fill_value=0)\n",
    "print(b)"
   ]
  },
  {
   "cell_type": "code",
   "execution_count": 8,
   "metadata": {},
   "outputs": [
    {
     "data": {
      "image/png": "[encoded data removed]",
      "text/plain": [
       "<Figure size 432x288 with 1 Axes>"
      ]
     },
     "metadata": {
      "needs_background": "light"
     },
     "output_type": "display_data"
    }
   ],
   "source": [
    "import numpy as np, pandas as pd, matplotlib.pyplot as plt\n",
    "x1=[1,2,3,4,5]\n",
    "y1=[3,4,5,6,7]\n",
    "x2=[7,8,9,11,13]\n",
    "y2=[12,13,14,15,16]\n",
    "plt.plot(x1,y1,label='line1')\n",
    "plt.plot(x2,y2,label='line2')\n",
    "plt.xlabel('speed')\n",
    "plt.ylabel('distance')\n",
    "plt.title('Journey')\n",
    "plt.legend()\n",
    "plt.show()\n"
   ]
  },
  {
   "cell_type": "code",
   "execution_count": 13,
   "metadata": {},
   "outputs": [
    {
     "data": {
      "image/png": "[encoded data removed]",
      "text/plain": [
       "<Figure size 432x288 with 1 Axes>"
      ]
     },
     "metadata": {
      "needs_background": "light"
     },
     "output_type": "display_data"
    }
   ],
   "source": [
    "import numpy as np, matplotlib.pyplot as plt\n",
    "x=[1,2,3,4,5]\n",
    "y=[10,25,34,40,5]\n",
    "tick_label=(2001,2002,2003,2004,2005)\n",
    "plt.bar(x,y,tick_label=tick_label,width=0.5,color=['red','green'])\n",
    "plt.show()\n",
    "\n"
   ]
  },
  {
   "cell_type": "code",
   "execution_count": 14,
   "metadata": {},
   "outputs": [
    {
     "data": {
      "image/png": "[encoded data removed]",
      "text/plain": [
       "<Figure size 432x288 with 1 Axes>"
      ]
     },
     "metadata": {
      "needs_background": "light"
     },
     "output_type": "display_data"
    }
   ],
   "source": [
    "import numpy as np,pandas as pd,matplotlib.pyplot as plt\n",
    "x=[1,2,3,4,5,6,7,8,9,10]\n",
    "y=[11,12,13,14,15,16,17,18,19,20]\n",
    "plt.scatter(x,y,label='stars',color='red',s=20)\n",
    "plt.show()\n"
   ]
  },
  {
   "cell_type": "code",
   "execution_count": 20,
   "metadata": {},
   "outputs": [
    {
     "ename": "SyntaxError",
     "evalue": "positional argument follows keyword argument (<ipython-input-20-7f47d0ee26e1>, line 5)",
     "output_type": "error",
     "traceback": [
      "\u001b[1;36m  File \u001b[1;32m\"<ipython-input-20-7f47d0ee26e1>\"\u001b[1;36m, line \u001b[1;32m5\u001b[0m\n\u001b[1;33m    plt.pie(labels=activities,b,colors=c,startangle=90,explode=(0,0,0.1,0),radius=1,autopct='%1.1f%%',shadow=True)\u001b[0m\n\u001b[1;37m                             ^\u001b[0m\n\u001b[1;31mSyntaxError\u001b[0m\u001b[1;31m:\u001b[0m positional argument follows keyword argument\n"
     ]
    }
   ],
   "source": [
    "import numpy as np,pandas as pd,matplotlib.pyplot as plt\n",
    "activities=['eat','sleep','work','play']\n",
    "b=[3,7,8,6]\n",
    "c=['r','y','b','g']\n",
    "plt.pie(labels=activities,b,colors=c,startangle=90,explode=(0,0,0.1,0),radius=1,autopct='%1.1f%%',shadow=True)\n",
    "plt.show()"
   ]
  },
  {
   "cell_type": "code",
   "execution_count": 17,
   "metadata": {},
   "outputs": [
    {
     "name": "stdout",
     "output_type": "stream",
     "text": [
      "   S.no        Date  India_income  China_income  Tokyo_income  Kenya_income\n",
      "0     1  24-11-2005         12.85          15.5          10.0           8.0\n",
      "1     2    6-9-2006         20.00          17.2          11.8           9.7\n",
      "2     3   3-12-2007         22.50          19.0          13.5          11.8\n",
      "3     4    6-8-2008         26.70          20.8          10.2          13.0\n",
      "4     5  10-10-2009         28.20          23.0           9.0          13.9\n",
      "India_income    28.2\n",
      "China_income    23.0\n",
      "Tokyo_income    13.5\n",
      "Kenya_income    13.9\n",
      "dtype: float64\n",
      "India_income    12.85\n",
      "China_income    15.50\n",
      "Tokyo_income     9.00\n",
      "Kenya_income     8.00\n",
      "dtype: float64\n",
      "India_income    22.05\n",
      "China_income    19.10\n",
      "Tokyo_income    10.90\n",
      "Kenya_income    11.28\n",
      "dtype: float64\n",
      "India_income    6.092824\n",
      "China_income    2.944486\n",
      "Tokyo_income    1.766352\n",
      "Kenya_income    2.415988\n",
      "dtype: float64\n",
      "India_income    37.1225\n",
      "China_income     8.6700\n",
      "Tokyo_income     3.1200\n",
      "Kenya_income     5.8370\n",
      "dtype: float64\n",
      "India_income    22.5\n",
      "China_income    19.0\n",
      "Tokyo_income    10.2\n",
      "Kenya_income    11.8\n",
      "dtype: float64\n",
      "   India_income  China_income  Tokyo_income  Kenya_income\n",
      "0         12.85          15.5           9.0           8.0\n",
      "1         20.00          17.2          10.0           9.7\n",
      "2         22.50          19.0          10.2          11.8\n",
      "3         26.70          20.8          11.8          13.0\n",
      "4         28.20          23.0          13.5          13.9\n",
      "India_income    15.71\n",
      "China_income    16.18\n",
      "Tokyo_income     9.40\n",
      "Kenya_income     8.68\n",
      "Name: 0.1, dtype: float64\n",
      "India_income    18.57\n",
      "China_income    16.86\n",
      "Tokyo_income     9.80\n",
      "Kenya_income     9.36\n",
      "Name: 0.2, dtype: float64\n",
      "India_income   -0.836460\n",
      "China_income    0.174901\n",
      "Tokyo_income    0.784338\n",
      "Kenya_income   -0.473276\n",
      "dtype: float64\n",
      "India_income    0.235830\n",
      "China_income   -1.004254\n",
      "Tokyo_income   -0.259153\n",
      "Kenya_income   -1.472357\n",
      "dtype: float64\n",
      "data1: mean=0.488556 stdv=0.286765\n",
      "data2: mean=0.983746 stdv=0.411716\n",
      "0.7205862202587446\n",
      "0.7118877158877159\n"
     ]
    },
    {
     "data": {
      "image/png": "[encoded data removed]",
      "text/plain": [
       "<Figure size 432x288 with 1 Axes>"
      ]
     },
     "metadata": {
      "needs_background": "light"
     },
     "output_type": "display_data"
    },
    {
     "name": "stderr",
     "output_type": "stream",
     "text": [
      "C:\\ProgramData\\Anaconda3\\lib\\site-packages\\ipykernel_launcher.py:73: FutureWarning: Using a non-tuple sequence for multidimensional indexing is deprecated; use `arr[tuple(seq)]` instead of `arr[seq]`. In the future this will be interpreted as an array index, `arr[np.array(seq)]`, which will result either in an error or a different result.\n"
     ]
    },
    {
     "ename": "IndexError",
     "evalue": "invalid index to scalar variable.",
     "output_type": "error",
     "traceback": [
      "\u001b[1;31m---------------------------------------------------------------------------\u001b[0m",
      "\u001b[1;31mIndexError\u001b[0m                                Traceback (most recent call last)",
      "\u001b[1;32m<ipython-input-17-b9245af1738c>\u001b[0m in \u001b[0;36m<module>\u001b[1;34m\u001b[0m\n\u001b[0;32m     71\u001b[0m \u001b[1;33m\u001b[0m\u001b[0m\n\u001b[0;32m     72\u001b[0m \u001b[1;31m##seaborne pairplot\u001b[0m\u001b[1;33m\u001b[0m\u001b[1;33m\u001b[0m\u001b[1;33m\u001b[0m\u001b[0m\n\u001b[1;32m---> 73\u001b[1;33m \u001b[0mz\u001b[0m\u001b[1;33m=\u001b[0m\u001b[0msns\u001b[0m\u001b[1;33m.\u001b[0m\u001b[0mpairplot\u001b[0m\u001b[1;33m(\u001b[0m\u001b[0mdata\u001b[0m\u001b[1;33m=\u001b[0m\u001b[0mb\u001b[0m\u001b[1;33m[\u001b[0m\u001b[1;33m[\u001b[0m\u001b[1;34m'Date'\u001b[0m\u001b[1;33m,\u001b[0m\u001b[1;34m'India_income'\u001b[0m\u001b[1;33m,\u001b[0m\u001b[1;34m'China_income'\u001b[0m\u001b[1;33m,\u001b[0m\u001b[1;34m'Tokyo_income'\u001b[0m\u001b[1;33m,\u001b[0m\u001b[1;34m'Kenya_income'\u001b[0m\u001b[1;33m]\u001b[0m\u001b[1;33m]\u001b[0m\u001b[1;33m,\u001b[0m\u001b[0mhue\u001b[0m\u001b[1;33m=\u001b[0m\u001b[1;34m'Date'\u001b[0m\u001b[1;33m)\u001b[0m\u001b[1;33m\u001b[0m\u001b[1;33m\u001b[0m\u001b[0m\n\u001b[0m",
      "\u001b[1;31mIndexError\u001b[0m: invalid index to scalar variable."
     ]
    }
   ],
   "source": [
    "import numpy as np,pandas as pd,matplotlib.pyplot as plt\n",
    "from datetime import datetime\n",
    "import scipy.stats\n",
    "import seaborn as sns\n",
    "\n",
    "##importing a csv file into \n",
    "x=pd.read_csv('Sales.csv')\n",
    "\n",
    "## craeting pandas dataframe\n",
    "a={'S.no':[1,2,3,4,5],'Date':['24-11-2005','6-9-2006','3-12-2007','6-8-2008','10-10-2009'],'India_income':[12.85,20.00,22.50,26.70,28.20],\n",
    "   'China_income':[15.5,17.2,19.0,20.8,23.0],'Tokyo_income':[10.0,11.8,13.5,10.2,9.0],'Kenya_income':[8.0,9.7,11.8,13.0,13.9]}\n",
    "b=pd.DataFrame(a)\n",
    "print(b)\n",
    "\n",
    "##converting date column to datetime\n",
    "#updated_time= datetime.datetime.strftime()\n",
    "b['Date']=pd.to_dataframe(b['Date'])\n",
    "b.info()\n",
    "\n",
    "##creating stats from the above dataframe\n",
    "#c=b.max('India')\n",
    "#b['India_income'].max()\n",
    "c=b[['India_income','China_income','Tokyo_income','Kenya_income']].max() ##max of all income columns\n",
    "print(c)\n",
    "d=b[['India_income','China_income','Tokyo_income','Kenya_income']].min() ##min of all income columns\n",
    "print(d)\n",
    "#e=b.max(axis=1)\n",
    "f=b[['India_income','China_income','Tokyo_income','Kenya_income']].mean() ## mean \n",
    "print(f)\n",
    "g=b[['India_income','China_income','Tokyo_income','Kenya_income']].std() ## std deviation \n",
    "print(g)\n",
    "h=b[['India_income','China_income','Tokyo_income','Kenya_income']].var() ## variance of \n",
    "print(h)\n",
    "i=b[['India_income','China_income','Tokyo_income','Kenya_income']].median() ##median\n",
    "print(i)\n",
    "j=b[['India_income','China_income','Tokyo_income','Kenya_income']].mode() ## mode\n",
    "print(j)\n",
    "k=b[['India_income','China_income','Tokyo_income','Kenya_income']].quantile(0.1)  ##10th percentile\n",
    "print(k)\n",
    "l=b[['India_income','China_income','Tokyo_income','Kenya_income']].quantile(0.2)  ##10th percentile\n",
    "print(l)\n",
    "#n=b[['India_income','China_income','Tokyo_income','Kenya_income']].percentile(10,interpolation='midpoint')\n",
    "#print(n)\n",
    "o=b[['India_income','China_income','Tokyo_income','Kenya_income']].skew()  ##finding skewness\n",
    "print(o)\n",
    "p=b[['India_income','China_income','Tokyo_income','Kenya_income']].kurt()  ##finding kurtosis\n",
    "print(p)\n",
    "\n",
    "## finding Pearson correlation matrix and Spearman’s Rank correlation matrix \n",
    "#seed(1)\n",
    "#data1=randn(1000)\n",
    "data1 =  np.random.random(1000)\n",
    "data2 =  data1 +( np.random.random(1000) )\n",
    "\n",
    "print('data1: mean=%f stdv=%f' % (np.mean(data1), np.std(data1)))\n",
    "print('data2: mean=%f stdv=%f' % (np.mean(data2), np.std(data2)))\n",
    "a=scipy.stats.pearsonr(data1,data2)[0]\n",
    "b=scipy.stats.spearmanr(data1,data2)[0]\n",
    "print( a)\n",
    "print(b)\n",
    "#pyplot.scatter(data1,datta2)\n",
    "plt.scatter(data1,data2)\n",
    "#pyplot.show()\n",
    "plt.show()\n",
    "\n",
    "##graphs using plotly \n",
    "plt.bar(x='Date',y='India_income',width=0.5,color=['red','green'])\n",
    "#b.plt.bar()\n",
    "plt.show()\n",
    "\n",
    "##seaborne pairplot\n",
    "z=sns.pairplot(data=b[['Date','India_income','China_income','Tokyo_income','Kenya_income']],hue='Date')\n"
   ]
  },
  {
   "cell_type": "code",
   "execution_count": 14,
   "metadata": {},
   "outputs": [
    {
     "name": "stdout",
     "output_type": "stream",
     "text": [
      "data1: mean=0.513010 stdv=0.285949\n",
      "data2: mean=1.017357 stdv=0.413684\n",
      "0.7113185844448415\n",
      "0.7044006324006324\n"
     ]
    },
    {
     "data": {
      "image/png": "[encoded data removed]",
      "text/plain": [
       "<Figure size 432x288 with 1 Axes>"
      ]
     },
     "metadata": {
      "needs_background": "light"
     },
     "output_type": "display_data"
    }
   ],
   "source": [
    "import numpy as np,pandas as pd,matplotlib.pyplot as plt\n",
    "import scipy.stats\n",
    "#seed(1)\n",
    "#data1=randn(1000)\n",
    "data1 =  np.random.random(1000)\n",
    "data2 =  data1 +( np.random.random(1000) )\n",
    "\n",
    "print('data1: mean=%f stdv=%f' % (np.mean(data1), np.std(data1)))\n",
    "print('data2: mean=%f stdv=%f' % (np.mean(data2), np.std(data2)))\n",
    "a=scipy.stats.pearsonr(data1,data2)[0]\n",
    "b=scipy.stats.spearmanr(data1,data2)[0]\n",
    "print( a)\n",
    "print(b)\n",
    "#pyplot.scatter(data1,datta2)\n",
    "plt.scatter(data1,data2)\n",
    "#pyplot.show()\n",
    "plt.show()\n"
   ]
  },
  {
   "cell_type": "code",
   "execution_count": 5,
   "metadata": {},
   "outputs": [],
   "source": [
    "data1 =  np.random.random(1000)"
   ]
  },
  {
   "cell_type": "code",
   "execution_count": null,
   "metadata": {},
   "outputs": [],
   "source": []
  }
 ],
 "metadata": {
  "kernelspec": {
   "display_name": "Python 3",
   "language": "python",
   "name": "python3"
  },
  "language_info": {
   "codemirror_mode": {
    "name": "ipython",
    "version": 3
   },
   "file_extension": ".py",
   "mimetype": "text/x-python",
   "name": "python",
   "nbconvert_exporter": "python",
   "pygments_lexer": "ipython3",
   "version": "3.7.4"
  }
 },
 "nbformat": 4,
 "nbformat_minor": 2
}
